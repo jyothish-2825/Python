{
  "nbformat": 4,
  "nbformat_minor": 0,
  "metadata": {
    "colab": {
      "provenance": []
    },
    "kernelspec": {
      "name": "python3",
      "display_name": "Python 3"
    },
    "language_info": {
      "name": "python"
    }
  },
  "cells": [
    {
      "cell_type": "markdown",
      "source": [
        "1. Create a variable age and assign it the value 25"
      ],
      "metadata": {
        "id": "i4hynj2Anm84"
      }
    },
    {
      "cell_type": "code",
      "execution_count": 6,
      "metadata": {
        "colab": {
          "base_uri": "https://localhost:8080/"
        },
        "id": "BfTjPilKnHGF",
        "outputId": "1f3d84be-8d6f-4fb0-a394-b8d062a72e6d"
      },
      "outputs": [
        {
          "output_type": "stream",
          "name": "stdout",
          "text": [
            "24\n"
          ]
        }
      ],
      "source": [
        "age = 24"
      ]
    },
    {
      "cell_type": "markdown",
      "source": [
        "2. Create a variable name and assign it a string containing your name"
      ],
      "metadata": {
        "id": "uxZ4oWkinksx"
      }
    },
    {
      "cell_type": "code",
      "source": [
        "name = \"Jyothish Ajayakumar\""
      ],
      "metadata": {
        "id": "VlQdh0Cpnjm7"
      },
      "execution_count": 7,
      "outputs": []
    },
    {
      "cell_type": "markdown",
      "source": [
        "3. Print the type of the variable age"
      ],
      "metadata": {
        "id": "FgSn0NNgoT-p"
      }
    },
    {
      "cell_type": "code",
      "source": [
        "print(type(age))"
      ],
      "metadata": {
        "colab": {
          "base_uri": "https://localhost:8080/"
        },
        "id": "FeA1Kw2GnjqW",
        "outputId": "67dd60b9-b603-4a67-c456-a5ab9ac44c94"
      },
      "execution_count": 8,
      "outputs": [
        {
          "output_type": "stream",
          "name": "stdout",
          "text": [
            "<class 'int'>\n"
          ]
        }
      ]
    },
    {
      "cell_type": "markdown",
      "source": [
        "4. Convert the variable age to a string and store it in a new variable age_str."
      ],
      "metadata": {
        "id": "km4jEFNtogG6"
      }
    },
    {
      "cell_type": "code",
      "source": [
        "str_age = str(age)"
      ],
      "metadata": {
        "id": "TxUHkon6njtH"
      },
      "execution_count": 10,
      "outputs": []
    },
    {
      "cell_type": "markdown",
      "source": [
        "5. Create a variable height and assign it the value 175.5 (floating-point number)."
      ],
      "metadata": {
        "id": "KpUcJW65o5nI"
      }
    },
    {
      "cell_type": "code",
      "source": [
        "height = 24.5"
      ],
      "metadata": {
        "id": "zLu18eTInjv5"
      },
      "execution_count": 12,
      "outputs": []
    },
    {
      "cell_type": "markdown",
      "source": [
        "6. Print the type of the variable height."
      ],
      "metadata": {
        "id": "tJgD9uHfpKXw"
      }
    },
    {
      "cell_type": "code",
      "source": [
        "print(type(height))"
      ],
      "metadata": {
        "colab": {
          "base_uri": "https://localhost:8080/"
        },
        "id": "ELn-dYWTnjyk",
        "outputId": "972a9409-2e5a-46e0-d668-c2ce41a3e7ce"
      },
      "execution_count": 13,
      "outputs": [
        {
          "output_type": "stream",
          "name": "stdout",
          "text": [
            "<class 'float'>\n"
          ]
        }
      ]
    },
    {
      "cell_type": "markdown",
      "source": [
        "7. Create a variable is_student and assign it a boolean value representing whether you\n",
        "are a student or not."
      ],
      "metadata": {
        "id": "uej2iiwSpRoW"
      }
    },
    {
      "cell_type": "code",
      "source": [
        "is_student = True"
      ],
      "metadata": {
        "id": "xHv6pQuSnj1M"
      },
      "execution_count": 15,
      "outputs": []
    },
    {
      "cell_type": "markdown",
      "source": [
        "8. Print the type of the variable is_student."
      ],
      "metadata": {
        "id": "DoIwAu-Dpoq5"
      }
    },
    {
      "cell_type": "code",
      "source": [
        "print(type(is_student))\n"
      ],
      "metadata": {
        "colab": {
          "base_uri": "https://localhost:8080/"
        },
        "id": "UGD7wYRGnj3v",
        "outputId": "1da367ed-dcff-44b1-acef-c6476bb1914a"
      },
      "execution_count": 16,
      "outputs": [
        {
          "output_type": "stream",
          "name": "stdout",
          "text": [
            "<class 'bool'>\n"
          ]
        }
      ]
    },
    {
      "cell_type": "markdown",
      "source": [
        "9. Create a list colors containing the names of three colors."
      ],
      "metadata": {
        "id": "WIctSfhdp1vD"
      }
    },
    {
      "cell_type": "code",
      "source": [
        "colors = [\"Black\", \"Red\", \"Green\"]"
      ],
      "metadata": {
        "id": "maBMgXMEpwkA"
      },
      "execution_count": 17,
      "outputs": []
    },
    {
      "cell_type": "markdown",
      "source": [
        "10. Print the second element of the list colors"
      ],
      "metadata": {
        "id": "4SvfENN2qIL8"
      }
    },
    {
      "cell_type": "code",
      "source": [
        "print(colors[1])"
      ],
      "metadata": {
        "colab": {
          "base_uri": "https://localhost:8080/"
        },
        "id": "A06NnIaapxXz",
        "outputId": "3f790b86-aed8-4473-88d3-d751855f3b6d"
      },
      "execution_count": 18,
      "outputs": [
        {
          "output_type": "stream",
          "name": "stdout",
          "text": [
            "Red\n"
          ]
        }
      ]
    },
    {
      "cell_type": "markdown",
      "source": [
        "11. Create a tuple dimensions containing the length, width, and height of a box."
      ],
      "metadata": {
        "id": "Z3J3gDJdqM9-"
      }
    },
    {
      "cell_type": "code",
      "source": [
        "dimensions = (20, 10, 5)\n"
      ],
      "metadata": {
        "id": "1WJK0247pxaM"
      },
      "execution_count": 20,
      "outputs": []
    },
    {
      "cell_type": "markdown",
      "source": [
        "12. Print the third element of the tuple dimensions."
      ],
      "metadata": {
        "id": "QWFcSWgkqijk"
      }
    },
    {
      "cell_type": "code",
      "source": [
        "print(dimensions[2])"
      ],
      "metadata": {
        "colab": {
          "base_uri": "https://localhost:8080/"
        },
        "id": "PmeHbbUFpxc3",
        "outputId": "95356da1-ca6c-4454-fad0-8195e239ca00"
      },
      "execution_count": 21,
      "outputs": [
        {
          "output_type": "stream",
          "name": "stdout",
          "text": [
            "5\n"
          ]
        }
      ]
    },
    {
      "cell_type": "markdown",
      "source": [
        "13. Create a dictionary person with keys \"name\", \"age\", and \"city\", and assign appropriate\n",
        "values."
      ],
      "metadata": {
        "id": "qT011dKIqshc"
      }
    },
    {
      "cell_type": "code",
      "source": [
        "person = {\"name\": \"DBS\", \"age\": 2024, \"city\": \"Dublin\"}"
      ],
      "metadata": {
        "id": "CSbVNtcopxe_"
      },
      "execution_count": 23,
      "outputs": []
    },
    {
      "cell_type": "markdown",
      "source": [
        "14. Print the value associated with the key \"age\" in the dictionary person."
      ],
      "metadata": {
        "id": "N5bI2GocrM0S"
      }
    },
    {
      "cell_type": "code",
      "source": [
        "print(person[\"age\"])"
      ],
      "metadata": {
        "colab": {
          "base_uri": "https://localhost:8080/"
        },
        "id": "n54HGHNMrMmY",
        "outputId": "1255f599-d182-4bca-99fa-b72f81087e7c"
      },
      "execution_count": 24,
      "outputs": [
        {
          "output_type": "stream",
          "name": "stdout",
          "text": [
            "2024\n"
          ]
        }
      ]
    },
    {
      "cell_type": "markdown",
      "source": [
        "15. Create a set unique_numbers containing three unique integers."
      ],
      "metadata": {
        "id": "m2Iw0cQUrWmX"
      }
    },
    {
      "cell_type": "code",
      "source": [
        "unique_numbers = {4, 2, 19}"
      ],
      "metadata": {
        "id": "qSu4jY4trMkQ"
      },
      "execution_count": 25,
      "outputs": []
    },
    {
      "cell_type": "markdown",
      "source": [
        "16. Add a new integer to the set unique_numbers"
      ],
      "metadata": {
        "id": "N2luXeSEroZQ"
      }
    },
    {
      "cell_type": "code",
      "source": [
        "unique_numbers.add(2024)"
      ],
      "metadata": {
        "id": "ltMvjpxWrMVM"
      },
      "execution_count": 26,
      "outputs": []
    },
    {
      "cell_type": "code",
      "source": [
        "print(unique_numbers)"
      ],
      "metadata": {
        "colab": {
          "base_uri": "https://localhost:8080/"
        },
        "id": "UAZypravrMTk",
        "outputId": "fa8bc6f7-f1a8-44d1-b409-46cf3d6f2d22"
      },
      "execution_count": 27,
      "outputs": [
        {
          "output_type": "stream",
          "name": "stdout",
          "text": [
            "{2024, 2, 19, 4}\n"
          ]
        }
      ]
    },
    {
      "cell_type": "markdown",
      "source": [
        "17. Create a variable x and assign it the value 10"
      ],
      "metadata": {
        "id": "CRzR8_uVr3kz"
      }
    },
    {
      "cell_type": "code",
      "source": [
        "x = 10"
      ],
      "metadata": {
        "id": "3miIWTQ_rMRR"
      },
      "execution_count": 28,
      "outputs": []
    },
    {
      "cell_type": "markdown",
      "source": [
        "18. Increment the value of x by 5"
      ],
      "metadata": {
        "id": "gxCqmIZqsBkN"
      }
    },
    {
      "cell_type": "code",
      "source": [
        "x += 5"
      ],
      "metadata": {
        "id": "DVZJh_HFrMO6"
      },
      "execution_count": 29,
      "outputs": []
    },
    {
      "cell_type": "code",
      "source": [
        "print(x)"
      ],
      "metadata": {
        "colab": {
          "base_uri": "https://localhost:8080/"
        },
        "id": "DwFjzatrrMMX",
        "outputId": "6576acf4-5511-44bd-9399-66e0ce17e0a5"
      },
      "execution_count": 30,
      "outputs": [
        {
          "output_type": "stream",
          "name": "stdout",
          "text": [
            "15\n"
          ]
        }
      ]
    },
    {
      "cell_type": "markdown",
      "source": [
        "19. Create a variable y and assign it the value of x squared."
      ],
      "metadata": {
        "id": "KUdiXK_5sLJW"
      }
    },
    {
      "cell_type": "code",
      "source": [
        "y = x ** 2"
      ],
      "metadata": {
        "id": "a3O-PHr4rMJe"
      },
      "execution_count": 31,
      "outputs": []
    },
    {
      "cell_type": "code",
      "source": [
        "print (y)"
      ],
      "metadata": {
        "colab": {
          "base_uri": "https://localhost:8080/"
        },
        "id": "yZFPzcDknj6S",
        "outputId": "d1d315c6-cc16-43a2-97fe-24cafccaeafd"
      },
      "execution_count": 32,
      "outputs": [
        {
          "output_type": "stream",
          "name": "stdout",
          "text": [
            "225\n"
          ]
        }
      ]
    },
    {
      "cell_type": "markdown",
      "source": [
        "20. Swap the values of variables x and y."
      ],
      "metadata": {
        "id": "GoxXyNsBsWhA"
      }
    },
    {
      "cell_type": "code",
      "source": [
        "x, y = y, x"
      ],
      "metadata": {
        "id": "YlwDmpxknj8i"
      },
      "execution_count": 33,
      "outputs": []
    },
    {
      "cell_type": "code",
      "source": [
        "print (x)\n",
        "print (y)"
      ],
      "metadata": {
        "colab": {
          "base_uri": "https://localhost:8080/"
        },
        "id": "4BAyJT4Esdzo",
        "outputId": "1f462f4e-187a-4cb7-8612-c3c5a30f7d0a"
      },
      "execution_count": 34,
      "outputs": [
        {
          "output_type": "stream",
          "name": "stdout",
          "text": [
            "225\n",
            "15\n"
          ]
        }
      ]
    },
    {
      "cell_type": "code",
      "source": [],
      "metadata": {
        "id": "oTxZT5H9si9P"
      },
      "execution_count": null,
      "outputs": []
    }
  ]
}