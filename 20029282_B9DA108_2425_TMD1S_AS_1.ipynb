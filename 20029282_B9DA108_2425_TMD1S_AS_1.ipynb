{
  "nbformat": 4,
  "nbformat_minor": 0,
  "metadata": {
    "colab": {
      "provenance": []
    },
    "kernelspec": {
      "name": "python3",
      "display_name": "Python 3"
    },
    "language_info": {
      "name": "python"
    }
  },
  "cells": [
    {
      "source": [],
      "cell_type": "code",
      "metadata": {
        "id": "gwxXBexoj186"
      },
      "execution_count": null,
      "outputs": []
    },
    {
      "cell_type": "markdown",
      "source": [],
      "metadata": {
        "id": "Aiz5MenCP-QF"
      }
    },
    {
      "cell_type": "markdown",
      "source": [],
      "metadata": {
        "id": "Q0k1u5x1joBl"
      }
    },
    {
      "cell_type": "markdown",
      "source": [
        "1. Write a program that prints \"Hello, World!\" to the console."
      ],
      "metadata": {
        "id": "D6rDTtuxf8N4"
      }
    },
    {
      "cell_type": "code",
      "execution_count": null,
      "metadata": {
        "colab": {
          "base_uri": "https://localhost:8080/"
        },
        "id": "DxBbpWyOf6Qb",
        "outputId": "abdb64d9-e940-4289-b15f-5f4adbe25ef6"
      },
      "outputs": [
        {
          "output_type": "stream",
          "name": "stdout",
          "text": [
            "Hello World!\n"
          ]
        }
      ],
      "source": [
        "print(\"Hello World!\")"
      ]
    },
    {
      "cell_type": "markdown",
      "source": [
        "2. Calculate the area of a rectangle given its length and width."
      ],
      "metadata": {
        "id": "SG6a3EdEgIi0"
      }
    },
    {
      "cell_type": "code",
      "source": [
        "#length and width\n",
        "\n",
        "length = float(input(\"Enter the length of the rectangle: \"))\n",
        "width = float(input(\"Enter the width of the rectangle: \"))\n",
        "\n",
        "area = length * width\n",
        "\n",
        "print(\"The area of the rectangle is:\", area, \"square units\")"
      ],
      "metadata": {
        "colab": {
          "base_uri": "https://localhost:8080/"
        },
        "id": "n9PzvloKgEcu",
        "outputId": "61df234d-4530-461d-dc70-3f89c751ae81"
      },
      "execution_count": null,
      "outputs": [
        {
          "output_type": "stream",
          "name": "stdout",
          "text": [
            "Enter the length of the rectangle: 11\n",
            "Enter the width of the rectangle: 22\n",
            "The area of the rectangle is: 242.0 square units\n"
          ]
        }
      ]
    },
    {
      "cell_type": "markdown",
      "source": [
        "3. Convert temperature from Celsius to Fahrenheit and vice versa.\n"
      ],
      "metadata": {
        "id": "85Vcmkb_hMfw"
      }
    },
    {
      "cell_type": "code",
      "source": [],
      "metadata": {
        "id": "wY7AEltwhtI5"
      },
      "execution_count": null,
      "outputs": []
    },
    {
      "cell_type": "code",
      "source": [
        "# Celsius to Fahrenheit\n",
        "def celsius_to_fahrenheit(celsius):\n",
        "    return (celsius * 9/5) + 32\n",
        "\n",
        "# Fahrenheit to Celsius\n",
        "def fahrenheit_to_celsius(fahrenheit):\n",
        "    return (fahrenheit - 32) * 5/9\n",
        "\n",
        "# Type the temperature\n",
        "temperature = float(input(\"Enter the temperature: \"))\n",
        "unit = input(\"Enter the unit of given temperature (C for Celsius, F for Fahrenheit): \")\n",
        "\n",
        "if unit.upper() == \"C\":\n",
        "    fahrenheit = celsius_to_fahrenheit(temperature)\n",
        "    print(f\"{temperature}°C is equal to {fahrenheit}°F\")\n",
        "elif unit.upper() == \"F\":\n",
        "    celsius = fahrenheit_to_celsius(temperature)\n",
        "    print(f\"{temperature}°F is equal to {celsius}°C\")\n",
        "else:\n",
        "    print(\"Invalid unit. Please enter C for Celsius or F for Fahrenheit.\")"
      ],
      "metadata": {
        "colab": {
          "base_uri": "https://localhost:8080/"
        },
        "id": "KGPy6zL_g8ub",
        "outputId": "7e1a47fd-e845-42bd-b054-bc01ea0f8960"
      },
      "execution_count": null,
      "outputs": [
        {
          "output_type": "stream",
          "name": "stdout",
          "text": [
            "Enter the temperature: 22\n",
            "Enter the unit of given temperature (C for Celsius, F for Fahrenheit): F\n",
            "22.0°F is equal to -5.555555555555555°C\n"
          ]
        }
      ]
    },
    {
      "cell_type": "markdown",
      "source": [
        "4. Create a list of numbers and print the sum of all the elements.\n"
      ],
      "metadata": {
        "id": "FmnwCLAaiOV8"
      }
    },
    {
      "cell_type": "code",
      "source": [
        "# input the numbers\n",
        "numbers = input(\"Enter a list of numbers separated by spaces: \")\n",
        "\n",
        "# string into a list of numbers\n",
        "numbers = [int(num) for num in numbers.split()]\n",
        "\n",
        "total = sum(numbers)\n",
        "\n",
        "\n",
        "print(\"The sum of all the elements is:\", total)"
      ],
      "metadata": {
        "colab": {
          "base_uri": "https://localhost:8080/"
        },
        "id": "dqepNYZGhW4b",
        "outputId": "1073e4ba-f2f1-490e-90a8-ec4b4c3d62a4"
      },
      "execution_count": null,
      "outputs": [
        {
          "output_type": "stream",
          "name": "stdout",
          "text": [
            "Enter a list of numbers separated by spaces: 2 3 4 5\n",
            "The sum of all the elements is: 14\n"
          ]
        }
      ]
    },
    {
      "cell_type": "markdown",
      "source": [],
      "metadata": {
        "id": "svR7veIgn3EN"
      }
    },
    {
      "cell_type": "markdown",
      "source": [
        "5. Write a program to check if a given number is even or odd"
      ],
      "metadata": {
        "id": "zgXhKDQLn98Y"
      }
    },
    {
      "cell_type": "code",
      "source": [
        "# Type the number\n",
        "num = int(input(\"Enter a number: \"))\n",
        "\n",
        "# Checking number is even or odd\n",
        "if num % 2 == 0:\n",
        "    print(f\"{num} is even.\")\n",
        "else:\n",
        "    print(f\"{num} is odd.\")"
      ],
      "metadata": {
        "colab": {
          "base_uri": "https://localhost:8080/"
        },
        "id": "WyDPGPxwjFPN",
        "outputId": "31397f99-0fae-4e01-e3bc-46f70ae57e18"
      },
      "execution_count": null,
      "outputs": [
        {
          "output_type": "stream",
          "name": "stdout",
          "text": [
            "Enter a number: 22\n",
            "22 is even.\n"
          ]
        }
      ]
    },
    {
      "cell_type": "markdown",
      "source": [
        "6. Generate a random number between 1 and 100 and ask the user to guess it"
      ],
      "metadata": {
        "id": "Bh_NgEvzw1on"
      }
    },
    {
      "cell_type": "code",
      "source": [
        "import random\n",
        "\n",
        "# Random number between 1 and 100\n",
        "secret_number = random.randint(1, 100)\n",
        "\n",
        "# Type a number to guess the digit\n",
        "print(\"I'm thinking of a number between 1 and 100. Can you guess it?\")\n",
        "\n",
        "while True:\n",
        "\n",
        "    guess = int(input(\"Enter your guess: \"))\n",
        "\n",
        "    if guess == secret_number:\n",
        "        print(\"Congratulations! You guessed it\")\n",
        "        break\n",
        "    elif guess < secret_number:\n",
        "        print(\"Too low! Try again.\")\n",
        "    else:\n",
        "        print(\"Too high! Try again.\")"
      ],
      "metadata": {
        "colab": {
          "base_uri": "https://localhost:8080/"
        },
        "id": "eqix93sptXGF",
        "outputId": "4dedf177-474e-4a11-92d3-bc41f296f499"
      },
      "execution_count": null,
      "outputs": [
        {
          "output_type": "stream",
          "name": "stdout",
          "text": [
            "I'm thinking of a number between 1 and 100. Can you guess it?\n",
            "Enter your guess: 50\n",
            "Too low! Try again.\n",
            "Enter your guess: 75\n",
            "Too high! Try again.\n",
            "Enter your guess: 60\n",
            "Too high! Try again.\n",
            "Enter your guess: 57\n",
            "Too low! Try again.\n",
            "Enter your guess: 58\n",
            "Congratulations! You guessed it\n"
          ]
        }
      ]
    },
    {
      "cell_type": "markdown",
      "source": [
        "7. Write a function to check if a given string is a palindrome."
      ],
      "metadata": {
        "id": "98jnrfs3wKy2"
      }
    },
    {
      "cell_type": "code",
      "source": [
        "def is_palindrome(s):\n",
        "\n",
        "    return s == s[::-1]\n",
        "\n",
        "string = input(\"Enter a string: \")\n",
        "if is_palindrome(string):\n",
        "    print(\"The string is a palindrome.\")\n",
        "else:\n",
        "    print(\"The string is not a palindrome.\")"
      ],
      "metadata": {
        "id": "q0L5MPTIwsjO",
        "colab": {
          "base_uri": "https://localhost:8080/"
        },
        "outputId": "3624e399-a7fa-4ab9-cd2c-268c64f3599b"
      },
      "execution_count": null,
      "outputs": [
        {
          "output_type": "stream",
          "name": "stdout",
          "text": [
            "Enter a string: 2345\n",
            "The string is not a palindrome.\n"
          ]
        }
      ]
    },
    {
      "cell_type": "markdown",
      "source": [
        "8. Calculate the factorial of a given number"
      ],
      "metadata": {
        "id": "j1J9dTlKyiEm"
      }
    },
    {
      "cell_type": "code",
      "source": [
        "def factorial(number):\n",
        "    result = 1\n",
        "    for i in range(1, number+1):\n",
        "        result *= i\n",
        "    return result\n",
        "\n",
        "num = int(input(\"Enter a number: \"))\n",
        "print(\"The factorial of\", num, \"is\", factorial(num))"
      ],
      "metadata": {
        "colab": {
          "base_uri": "https://localhost:8080/"
        },
        "id": "vSebah6UyMBJ",
        "outputId": "73ef03f9-9ae9-45dd-e9ae-a52909b6ba2b"
      },
      "execution_count": null,
      "outputs": [
        {
          "output_type": "stream",
          "name": "stdout",
          "text": [
            "Enter a number: 44\n",
            "The factorial of 44 is 2658271574788448768043625811014615890319638528000000000\n"
          ]
        }
      ]
    },
    {
      "cell_type": "markdown",
      "source": [
        "9. Write a program to find the largest element in a list."
      ],
      "metadata": {
        "id": "r98NAnjIzN1k"
      }
    },
    {
      "cell_type": "code",
      "source": [
        "def find_largest(numbers):\n",
        "    largest = numbers[0]\n",
        "    for num in numbers:\n",
        "        if num > largest:\n",
        "            largest = num\n",
        "    return largest\n",
        "\n",
        "numbers = input(\"Enter a list of numbers separated by spaces: \")\n",
        "numbers = [int(num) for num in numbers.split()]\n",
        "print(\"The largest element in the list is:\", find_largest(numbers))"
      ],
      "metadata": {
        "colab": {
          "base_uri": "https://localhost:8080/"
        },
        "id": "Y3GGO0s1ymak",
        "outputId": "6f1f01d0-1a59-4016-9cae-1818019724ae"
      },
      "execution_count": null,
      "outputs": [
        {
          "output_type": "stream",
          "name": "stdout",
          "text": [
            "Enter a list of numbers separated by spaces: 2 3 4 5 6\n",
            "The largest element in the list is: 6\n"
          ]
        }
      ]
    },
    {
      "cell_type": "markdown",
      "source": [
        "10. Create a simple calculator that can perform addition, subtraction, multiplication, and\n",
        "division."
      ],
      "metadata": {
        "id": "WGt4KuMLznNt"
      }
    },
    {
      "cell_type": "code",
      "source": [
        "print(\"Select an operation:\")\n",
        "print(\"1. Addition\")\n",
        "print(\"2. Subtraction\")\n",
        "print(\"3. Multiplication\")\n",
        "print(\"4. Division\")\n",
        "\n",
        "choice = input(\"Enter your choice (1/2/3/4): \")\n",
        "\n",
        "if choice == \"1\" or choice == \"2\" or choice == \"3\" or choice == \"4\":\n",
        "    num1 = float(input(\"Enter the first number: \"))\n",
        "    num2 = float(input(\"Enter the second number: \"))\n",
        "\n",
        "    if choice == \"1\":\n",
        "        print(num1, \"+\", num2, \"=\", num1 + num2)\n",
        "    elif choice == \"2\":\n",
        "        print(num1, \"-\", num2, \"=\", num1 - num2)\n",
        "    elif choice == \"3\":\n",
        "        print(num1, \"*\", num2, \"=\", num1 * num2)\n",
        "    elif choice == \"4\":\n",
        "        if num2 != 0:\n",
        "            print(num1, \"/\", num2, \"=\", num1 / num2)\n",
        "        else:\n",
        "            print(\"Error: Division by zero is not allowed\")\n",
        "else:\n",
        "    print(\"Invalid input\")"
      ],
      "metadata": {
        "colab": {
          "base_uri": "https://localhost:8080/"
        },
        "id": "wNKSHiih01o_",
        "outputId": "d78549b5-c026-4acf-d5bd-da0fee5702e5"
      },
      "execution_count": null,
      "outputs": [
        {
          "output_type": "stream",
          "name": "stdout",
          "text": [
            "Select an operation:\n",
            "1. Addition\n",
            "2. Subtraction\n",
            "3. Multiplication\n",
            "4. Division\n",
            "Enter your choice (1/2/3/4): 2\n",
            "Enter the first number: 22\n",
            "Enter the second number: 2\n",
            "22.0 - 2.0 = 20.0\n"
          ]
        }
      ]
    },
    {
      "cell_type": "markdown",
      "source": [
        "11. Write a function to find the square root of a number using Newton's method"
      ],
      "metadata": {
        "id": "70cldoA3O_ym"
      }
    },
    {
      "cell_type": "code",
      "source": [
        "def sqrt_newton(n):\n",
        "    guess = n / 2.0\n",
        "    while True:\n",
        "        better_guess = (guess + n / guess) / 2.0\n",
        "        if abs(guess - better_guess) < 0.00001:\n",
        "            return better_guess\n",
        "        guess = better_guess\n",
        "\n",
        "num = float(input(\"Enter a number: \"))\n",
        "print(\"Square root of\", num, \"is\", sqrt_newton(num))"
      ],
      "metadata": {
        "colab": {
          "base_uri": "https://localhost:8080/"
        },
        "id": "gu15TT_9PA6l",
        "outputId": "a4b625e8-0f23-4a0b-9ce7-10c27735ed1b"
      },
      "execution_count": 2,
      "outputs": [
        {
          "output_type": "stream",
          "name": "stdout",
          "text": [
            "Enter a number: 4\n",
            "Square root of 4.0 is 2.0\n"
          ]
        }
      ]
    },
    {
      "cell_type": "markdown",
      "source": [
        "12. Reverse a given list without using the reverse() method.\n"
      ],
      "metadata": {
        "id": "a92YlZXMM6yQ"
      }
    },
    {
      "cell_type": "code",
      "source": [
        "numbers = [1, 2, 3, 4, 5]\n",
        "print(\"Original list:\", numbers)\n",
        "print(\"Reversed list:\", numbers[::-1])"
      ],
      "metadata": {
        "colab": {
          "base_uri": "https://localhost:8080/"
        },
        "id": "T6DsVUPo1HOA",
        "outputId": "21afbb7a-8b23-4bbb-fdad-5fc993cf49b7"
      },
      "execution_count": null,
      "outputs": [
        {
          "output_type": "stream",
          "name": "stdout",
          "text": [
            "Original list: [1, 2, 3, 4, 5]\n",
            "Reversed list: [5, 4, 3, 2, 1]\n"
          ]
        }
      ]
    },
    {
      "cell_type": "markdown",
      "source": [
        "13. Write a program to find all the prime numbers between 1 and 100."
      ],
      "metadata": {
        "id": "jFdFfkQzOVGr"
      }
    },
    {
      "cell_type": "code",
      "source": [
        "def is_prime(n):\n",
        "    if n <= 1:\n",
        "        return False\n",
        "    for i in range(2, int(n**0.5) + 1):\n",
        "        if n % i == 0:\n",
        "            return False\n",
        "    return True\n",
        "\n",
        "prime_numbers = [n for n in range(1, 101) if is_prime(n)]\n",
        "print(\"Prime numbers between 1 and 100:\", prime_numbers)"
      ],
      "metadata": {
        "colab": {
          "base_uri": "https://localhost:8080/"
        },
        "id": "zZo-JBmMfQak",
        "outputId": "e7a30ad6-fbff-457e-a2c0-7f327548df6d"
      },
      "execution_count": null,
      "outputs": [
        {
          "output_type": "stream",
          "name": "stdout",
          "text": [
            "Prime numbers between 1 and 100: [2, 3, 5, 7, 11, 13, 17, 19, 23, 29, 31, 37, 41, 43, 47, 53, 59, 61, 67, 71, 73, 79, 83, 89, 97]\n"
          ]
        }
      ]
    },
    {
      "cell_type": "markdown",
      "source": [
        "\n",
        "14. Calculate the Fibonacci sequence up to a given number."
      ],
      "metadata": {
        "id": "nxdY9wOVf0Qs"
      }
    },
    {
      "cell_type": "code",
      "source": [
        "def fibonacci(n):\n",
        "    fib_sequence = [0, 1]\n",
        "    while len(fib_sequence) < n:\n",
        "        fib_sequence.append(fib_sequence[-1] + fib_sequence[-2])\n",
        "    return fib_sequence\n",
        "\n",
        "n = int(input(\"Enter the number of terms in the Fibonacci sequence: \"))\n",
        "print(\"Fibonacci sequence up to\", n, \"terms:\", fibonacci(n))"
      ],
      "metadata": {
        "colab": {
          "base_uri": "https://localhost:8080/"
        },
        "id": "zUuAZWMPNoYB",
        "outputId": "e729a6b0-22bf-46ba-b900-28058a60a402"
      },
      "execution_count": null,
      "outputs": [
        {
          "output_type": "stream",
          "name": "stdout",
          "text": [
            "Enter the number of terms in the Fibonacci sequence: 7\n",
            "Fibonacci sequence up to 7 terms: [0, 1, 1, 2, 3, 5, 8]\n"
          ]
        }
      ]
    },
    {
      "cell_type": "markdown",
      "source": [
        "15. Write a function to count the number of vowels in a given string."
      ],
      "metadata": {
        "id": "H440xF9TgN0x"
      }
    },
    {
      "cell_type": "code",
      "source": [
        "def count_vowels(s):\n",
        "    vowels = 'AEIOUaeiou'\n",
        "    return sum(1 for char in s if char in vowels)\n",
        "\n",
        "s = input(\"Enter a string: \")\n",
        "print(\"Number of vowels in the string:\", count_vowels(s))"
      ],
      "metadata": {
        "colab": {
          "base_uri": "https://localhost:8080/"
        },
        "id": "v-17d_rUgOeQ",
        "outputId": "a4885064-8f06-4970-8312-bb66a48b2af3"
      },
      "execution_count": null,
      "outputs": [
        {
          "output_type": "stream",
          "name": "stdout",
          "text": [
            "Enter a string: DUBLIN BUSINESS SCHOOL\n",
            "Number of vowels in the string: 7\n"
          ]
        }
      ]
    },
    {
      "cell_type": "markdown",
      "source": [
        "16. Check if a given year is a leap year."
      ],
      "metadata": {
        "id": "C3NJ7jU_uOCL"
      }
    },
    {
      "cell_type": "code",
      "source": [
        "def is_leap_year(year):\n",
        "\n",
        "    if year % 4 != 0:\n",
        "        return False\n",
        "    elif year % 100 != 0:\n",
        "        return True\n",
        "    elif year % 400 != 0:\n",
        "        return False\n",
        "    else:\n",
        "        return True\n",
        "\n",
        "year = int(input(\"Enter a year: \"))\n",
        "if is_leap_year(year):\n",
        "    print(f\"{year} is a leap year.\")\n",
        "else:\n",
        "    print(f\"{year} is not a leap year.\")"
      ],
      "metadata": {
        "id": "UT7J990CieyX",
        "colab": {
          "base_uri": "https://localhost:8080/"
        },
        "outputId": "31c4dc05-4dd4-431a-f0ce-c24f7635a5b7"
      },
      "execution_count": null,
      "outputs": [
        {
          "output_type": "stream",
          "name": "stdout",
          "text": [
            "Enter a year: 2024\n",
            "2024 is a leap year.\n"
          ]
        }
      ]
    },
    {
      "cell_type": "markdown",
      "source": [
        "17. Remove duplicates from a list without using sets.\n"
      ],
      "metadata": {
        "id": "SVa6Zhs-pLls"
      }
    },
    {
      "cell_type": "code",
      "source": [
        "def remove_duplicates(lst):\n",
        "\n",
        "    new_lst = []\n",
        "    for item in lst:\n",
        "        if type(item) == type(new_lst) or item not in new_lst:\n",
        "            new_lst.append(item)\n",
        "    return new_lst\n",
        "\n",
        "original_list = [1, 2, 2, 3, 4, 4, 5, 6, 6]\n",
        "print(\"Original list:\", original_list)\n",
        "new_list = remove_duplicates(original_list)\n",
        "print(\"List with duplicates removed:\", new_list)"
      ],
      "metadata": {
        "colab": {
          "base_uri": "https://localhost:8080/"
        },
        "id": "Q7-JgmTsoHXZ",
        "outputId": "c4bdf7e7-e198-4dc2-fb74-1fb97d1ba537"
      },
      "execution_count": null,
      "outputs": [
        {
          "output_type": "stream",
          "name": "stdout",
          "text": [
            "Original list: [1, 2, 2, 3, 4, 4, 5, 6, 6]\n",
            "List with duplicates removed: [1, 2, 3, 4, 5, 6]\n"
          ]
        }
      ]
    },
    {
      "cell_type": "markdown",
      "source": [
        "18. Write a program to sort a list of numbers using bubble sort"
      ],
      "metadata": {
        "id": "JOwW2kYBrQbP"
      }
    },
    {
      "cell_type": "code",
      "source": [
        "def bubble_sort(lst):\n",
        "\n",
        "    n = len(lst)\n",
        "    for i in range(n-1):\n",
        "        for j in range(0, n-i-1):\n",
        "            if lst[j] > lst[j+1]:\n",
        "                lst[j], lst[j+1] = lst[j+1], lst[j]\n",
        "    return lst\n",
        "\n",
        "numbers = [64, 34, 25, 12, 22, 11, 90]\n",
        "print(\"Original list:\", numbers)\n",
        "sorted_numbers = bubble_sort(numbers)\n",
        "print(\"Sorted list:\", sorted_numbers)"
      ],
      "metadata": {
        "colab": {
          "base_uri": "https://localhost:8080/"
        },
        "id": "-tmtQx_Po1D3",
        "outputId": "10e61ca3-1970-437c-ed90-d370df451efa"
      },
      "execution_count": null,
      "outputs": [
        {
          "output_type": "stream",
          "name": "stdout",
          "text": [
            "Original list: [64, 34, 25, 12, 22, 11, 90]\n",
            "Sorted list: [11, 12, 22, 25, 34, 64, 90]\n"
          ]
        }
      ]
    },
    {
      "cell_type": "markdown",
      "source": [
        "19. Create a dictionary of names and ages, and print the name of the oldest person"
      ],
      "metadata": {
        "id": "HqR_Tq4YrMFu"
      }
    },
    {
      "cell_type": "code",
      "source": [
        "people = {}\n",
        "#Type number of people in dictionary\n",
        "num_people = int(input(\"How many people do you want to add? \"))\n",
        "\n",
        "for i in range(num_people):\n",
        "    name = input(f\"Enter name {i+1}: \")\n",
        "    age = int(input(f\"Enter age of {name}: \"))\n",
        "    people[name] = age\n",
        "\n",
        "#oldest person\n",
        "oldest_person = max(people, key=people.get)\n",
        "\n",
        "print(\"The oldest person is:\", oldest_person)"
      ],
      "metadata": {
        "colab": {
          "base_uri": "https://localhost:8080/"
        },
        "id": "6u9MysPTxmIl",
        "outputId": "7a962156-04aa-484e-d3e4-7345da4bba4f"
      },
      "execution_count": null,
      "outputs": [
        {
          "output_type": "stream",
          "name": "stdout",
          "text": [
            "How many people do you want to add? 3\n",
            "Enter name 1: D\n",
            "Enter age of D: 1\n",
            "Enter name 2: B\n",
            "Enter age of B: 2\n",
            "Enter name 3: S\n",
            "Enter age of S: 3\n",
            "The oldest person is: S\n"
          ]
        }
      ]
    },
    {
      "cell_type": "markdown",
      "source": [
        "20. Write a program to find the least common multiple (LCM) of two numbers."
      ],
      "metadata": {
        "id": "moZV15OHrXN-"
      }
    },
    {
      "cell_type": "code",
      "source": [
        "def lcm(a, b):\n",
        "\n",
        "    def gcd(a, b):\n",
        "        while b:\n",
        "            a, b = b, a % b\n",
        "        return a\n",
        "\n",
        "    return a * b // gcd(a, b)\n",
        "\n",
        "\n",
        "num1 = int(input(\"Enter the first number: \"))\n",
        "num2 = int(input(\"Enter the second number: \"))\n",
        "\n",
        "\n",
        "print(\"LCM of\", num1, \"and\", num2, \"is:\", lcm(num1, num2))"
      ],
      "metadata": {
        "colab": {
          "base_uri": "https://localhost:8080/"
        },
        "id": "zlSw4RMQqi7e",
        "outputId": "1bcfbb05-c99b-4c92-df4a-9d5872e30b06"
      },
      "execution_count": null,
      "outputs": [
        {
          "output_type": "stream",
          "name": "stdout",
          "text": [
            "Enter the first number: 22\n",
            "Enter the second number: 11\n",
            "LCM of 22 and 11 is: 22\n"
          ]
        }
      ]
    },
    {
      "cell_type": "code",
      "source": [],
      "metadata": {
        "id": "d6rm83MGr1Zh"
      },
      "execution_count": null,
      "outputs": []
    }
  ]
}