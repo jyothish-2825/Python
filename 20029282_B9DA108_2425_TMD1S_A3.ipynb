{
  "nbformat": 4,
  "nbformat_minor": 0,
  "metadata": {
    "colab": {
      "provenance": []
    },
    "kernelspec": {
      "name": "python3",
      "display_name": "Python 3"
    },
    "language_info": {
      "name": "python"
    }
  },
  "cells": [
    {
      "cell_type": "markdown",
      "source": [
        "1. Write a program to check if a given number is positive, negative, or zero.\n",
        "num = input(\"Enter a number: \")\n",
        "if num > 0:\n",
        "print(Positive)\n",
        "elif num < 0:\n",
        " print(Negative)\n",
        "else:\n",
        " print(\"Zero\")"
      ],
      "metadata": {
        "id": "ExpK_gjpLFxJ"
      }
    },
    {
      "cell_type": "markdown",
      "source": [
        "Added quotes around the string \"Positive\".\n",
        "Added the line num = float(num) to convert the user input to a float."
      ],
      "metadata": {
        "id": "lcxzJlyCjDLl"
      }
    },
    {
      "cell_type": "code",
      "execution_count": 1,
      "metadata": {
        "colab": {
          "base_uri": "https://localhost:8080/"
        },
        "id": "-4VNl3WpFOZ7",
        "outputId": "cc73fd8c-88a0-4ed1-88d9-8d5fc585421f"
      },
      "outputs": [
        {
          "output_type": "stream",
          "name": "stdout",
          "text": [
            "Enter a number: 22\n",
            "Positive\n"
          ]
        }
      ],
      "source": [
        "number = input(\"Enter a number: \")\n",
        "number = float(number)\n",
        "if number > 0:\n",
        "    print(\"Positive\")\n",
        "elif number < 0:\n",
        "    print(\"Negative\")\n",
        "else:\n",
        "    print(\"Zero\")"
      ]
    },
    {
      "cell_type": "markdown",
      "source": [
        "2. Write a program to find the maximum of two numbers.\n",
        "def maximum(a, b):\n",
        " return a if a > b else b\n",
        "num1 = int((\"Enter first number: \"))\n",
        "num2 = (input(\"Enter second number: \"))\n",
        "print(\"Maximum:\" maximum(num1, num))\n"
      ],
      "metadata": {
        "id": "84ymnqZALoDm"
      }
    },
    {
      "cell_type": "markdown",
      "source": [
        "Added input function call to get user input and float  for num1.\n",
        "Added int conversion to input function calls to convert user input to float.\n",
        "Changed print statement to include a comma after \"Maximum:\" to separate the label from the result."
      ],
      "metadata": {
        "id": "QIAXxzfJkp-Y"
      }
    },
    {
      "cell_type": "code",
      "source": [
        "def maximum(a, b):\n",
        "    return a if a > b else b\n",
        "\n",
        "num1 = float(input(\"Enter First Number: \"))\n",
        "num2 = float(input(\"Enter Second Number: \"))\n",
        "print(\"Maximum:\", maximum(num1, num2))"
      ],
      "metadata": {
        "colab": {
          "base_uri": "https://localhost:8080/"
        },
        "id": "iIe4-T1ZHE2Q",
        "outputId": "d569cc2a-d95f-47cd-f1af-05100861f0ae"
      },
      "execution_count": 4,
      "outputs": [
        {
          "output_type": "stream",
          "name": "stdout",
          "text": [
            "Enter First Number: -11\n",
            "Enter Second Number: -11.1\n",
            "Maximum: -11.0\n"
          ]
        }
      ]
    },
    {
      "cell_type": "markdown",
      "source": [
        "3. Write a program to check if a given year is a leap year.\n",
        "def is_leap_year(year):\n",
        " return (year % 4 == 0 and year % 100 != 0) or (year % 400 == 0)\n",
        "year = \"Enter a year: \"\n",
        "if is_leap_year(year):\n",
        " print(\"Leap year\")\n",
        "else:\n",
        " print(\"Not a leap year\")"
      ],
      "metadata": {
        "id": "Pc4ZOz5ARb1O"
      }
    },
    {
      "cell_type": "markdown",
      "source": [
        "Added input function call to get user input for year.\n",
        "Added int conversion to input function call to convert user input to an integer.\n",
        "Removed quotes around the string \"Enter a year: \" to make it a prompt for the input function."
      ],
      "metadata": {
        "id": "3y4_Cc8alJKF"
      }
    },
    {
      "cell_type": "code",
      "source": [
        "def is_leap_year(year):\n",
        "    return (year % 4 == 0 and year % 100 != 0) or (year % 400 == 0)\n",
        "\n",
        "year = int(input(\"Enter year: \"))\n",
        "if is_leap_year(year):\n",
        "    print(\"Leap year\")\n",
        "else:\n",
        "    print(\"Not leap year\")"
      ],
      "metadata": {
        "colab": {
          "base_uri": "https://localhost:8080/"
        },
        "id": "FmQCG8QDPwg6",
        "outputId": "bf068d2a-89c5-40c7-9d94-f393864774d4"
      },
      "execution_count": 9,
      "outputs": [
        {
          "output_type": "stream",
          "name": "stdout",
          "text": [
            "Enter year: 2025\n",
            "Not leap year\n"
          ]
        }
      ]
    },
    {
      "cell_type": "markdown",
      "source": [
        "4. Write a program to print the Fibonacci sequence up to a given number of terms.\n",
        "def fibonacci(n):\n",
        " a, b = 0, 1\n",
        " fib = [a, b\n",
        " for _ in range(n - 2)\n",
        " a, b = b, a + b\n",
        " fib.append(b)\n",
        " return fib\n",
        "terms = (input(\"Enter the number of terms: \"))\n",
        "print(\"Fibonacci sequence:\" fibonacci(terms))\n"
      ],
      "metadata": {
        "id": "sDtYRn94REyS"
      }
    },
    {
      "cell_type": "markdown",
      "source": [
        "Added a for loop to generate the Fibonacci sequence up to the given number of terms.\n",
        "Moved the list initialization and the first two terms outside the loop.\n",
        "Added the generated terms to the list inside the loop.\n",
        "Added int conversion to input function call to convert user input to an integer.\n",
        "Added a comma after \"Fibonacci sequence:\" to separate the label from the result."
      ],
      "metadata": {
        "id": "GRQ7DlQ-ljju"
      }
    },
    {
      "cell_type": "code",
      "source": [
        "def fibonacci(n):\n",
        "    a, b = 0, 1\n",
        "    fib = [a, b]\n",
        "    for _ in range(n - 2):\n",
        "        a, b = b, a + b\n",
        "        fib.append(b)\n",
        "    return fib\n",
        "\n",
        "terms = int(input(\"Enter the number of terms: \"))\n",
        "print(\"Fibonacci sequence:\", fibonacci(terms))\n"
      ],
      "metadata": {
        "colab": {
          "base_uri": "https://localhost:8080/"
        },
        "id": "msd_yqqyMh5P",
        "outputId": "86f2a9e9-e588-4bc6-af27-dd0f90848073"
      },
      "execution_count": 5,
      "outputs": [
        {
          "output_type": "stream",
          "name": "stdout",
          "text": [
            "Enter the number of terms: 10\n",
            "Fibonacci sequence: [0, 1, 1, 2, 3, 5, 8, 13, 21, 34]\n"
          ]
        }
      ]
    },
    {
      "cell_type": "markdown",
      "source": [
        "5. Write a program to find the factorial of a given number.\n",
        "def factorial(n):\n",
        " if n == 0:\n",
        " return 1\n",
        " else:\n",
        " return n * fact(n - 1)\n",
        "num = int((\"Enter a number: \"))\n",
        "print(\"Factorial:\" fact(num))\n"
      ],
      "metadata": {
        "id": "sB72ttZCSWzz"
      }
    },
    {
      "cell_type": "markdown",
      "source": [
        "Corrected the input function call to get user input for num.\n",
        "Added a comma after \"Factorial:\" to separate the label from the result.\n",
        "Changed fact to factorial in the function call and definition to match the function name."
      ],
      "metadata": {
        "id": "fGJz8SaGlnMk"
      }
    },
    {
      "cell_type": "code",
      "source": [
        "def factorial(n):\n",
        "    if n == 0:\n",
        "        return 1\n",
        "    else:\n",
        "        return n * factorial(n - 1)\n",
        "\n",
        "num = int(input(\"Enter a number: \"))\n",
        "print(\"Factorial:\", factorial(num))"
      ],
      "metadata": {
        "colab": {
          "base_uri": "https://localhost:8080/"
        },
        "id": "tvvof9HvRbhd",
        "outputId": "a3381458-fc78-48bb-cedd-b9b6477d146b"
      },
      "execution_count": 10,
      "outputs": [
        {
          "output_type": "stream",
          "name": "stdout",
          "text": [
            "Enter a number: 5\n",
            "Factorial: 120\n"
          ]
        }
      ]
    },
    {
      "cell_type": "markdown",
      "source": [
        "6. Write a program to calculate the sum of all numbers from 1 to 100.\n",
        "total = sum(range(1, 101))\n",
        "print(\"Sum of numbers from 1 to 100:\")"
      ],
      "metadata": {
        "id": "Z70DUNmsVRgE"
      }
    },
    {
      "cell_type": "markdown",
      "source": [
        "Added a comma after \"Sum of numbers from 1 to 100:\" to separate the label from the result.\n",
        "\n",
        "\n",
        "\n"
      ],
      "metadata": {
        "id": "KpOUtX8_mF6O"
      }
    },
    {
      "cell_type": "code",
      "source": [
        "total = sum(range(1, 101))\n",
        "print(\"Sum of numbers from 1 to 100:\", total)"
      ],
      "metadata": {
        "colab": {
          "base_uri": "https://localhost:8080/"
        },
        "id": "HCY3VBgHSrpZ",
        "outputId": "55e71ffc-657c-4896-f668-7847e593aeb5"
      },
      "execution_count": 11,
      "outputs": [
        {
          "output_type": "stream",
          "name": "stdout",
          "text": [
            "Sum of numbers from 1 to 100: 5050\n"
          ]
        }
      ]
    },
    {
      "cell_type": "markdown",
      "source": [
        "7. Write a program to print the multiplication table of a given number.\n",
        "num = int(input(\"Enter a number: \"))\n",
        "for i in range(1, 11):\n",
        " print(num, \"x\", i, \"=\", num + x)"
      ],
      "metadata": {
        "id": "JmGc9Uh-Vacs"
      }
    },
    {
      "cell_type": "markdown",
      "source": [
        "Changed num + x to num * i to calculate the correct product.\n",
        "Removed the undefined variable x and replaced it with i, which is the loop variable."
      ],
      "metadata": {
        "id": "lIGFnfbXmOTw"
      }
    },
    {
      "cell_type": "code",
      "source": [
        "num = int(input(\"Enter a number: \"))\n",
        "for i in range(1, 13):\n",
        "    print(num, \"x\", i, \"=\", num * i)"
      ],
      "metadata": {
        "colab": {
          "base_uri": "https://localhost:8080/"
        },
        "id": "qaWcAoy7UtWQ",
        "outputId": "c731f08c-a7c5-4e7e-a341-8ca1c2454e13"
      },
      "execution_count": 12,
      "outputs": [
        {
          "output_type": "stream",
          "name": "stdout",
          "text": [
            "Enter a number: 6\n",
            "6 x 1 = 6\n",
            "6 x 2 = 12\n",
            "6 x 3 = 18\n",
            "6 x 4 = 24\n",
            "6 x 5 = 30\n",
            "6 x 6 = 36\n",
            "6 x 7 = 42\n",
            "6 x 8 = 48\n",
            "6 x 9 = 54\n",
            "6 x 10 = 60\n",
            "6 x 11 = 66\n",
            "6 x 12 = 72\n"
          ]
        }
      ]
    },
    {
      "cell_type": "markdown",
      "source": [
        "8. Write a program to find the prime numbers between 1 and 100.\n",
        "primes = []\n",
        "for num in range(2, 101):\n",
        " for i in range(2, i):\n",
        " if (num % i) == 0:\n",
        " break\n",
        " elseif:\n",
        " primes.append(num)\n",
        "print(\"Prime numbers between 1 and 100:\")\n"
      ],
      "metadata": {
        "id": "gVoSKNukXfV5"
      }
    },
    {
      "cell_type": "markdown",
      "source": [
        "Changed the inner loop range from range(2, i) to range(2, num) to iterate up to the current number num.\n",
        "Replaced the elif statement with an else clause, which is the correct syntax to execute a block of code when the inner loop completes normally.\n",
        "Added a comma after the label \"Prime numbers between 1 and 100:\" to separate it from the result.\n"
      ],
      "metadata": {
        "id": "8pSwqM4BnssL"
      }
    },
    {
      "cell_type": "code",
      "source": [
        "primes = []\n",
        "for num in range(2, 101):\n",
        "    for i in range(2, num):\n",
        "        if (num % i) == 0:\n",
        "            break\n",
        "    else:\n",
        "        primes.append(num)\n",
        "print(\"Prime numbers between 1 and 100:\", primes)\n"
      ],
      "metadata": {
        "colab": {
          "base_uri": "https://localhost:8080/"
        },
        "id": "RkMQsuCnWp2d",
        "outputId": "2ce95ecb-75b8-459c-de3c-88713c309c62"
      },
      "execution_count": 13,
      "outputs": [
        {
          "output_type": "stream",
          "name": "stdout",
          "text": [
            "Prime numbers between 1 and 100: [2, 3, 5, 7, 11, 13, 17, 19, 23, 29, 31, 37, 41, 43, 47, 53, 59, 61, 67, 71, 73, 79, 83, 89, 97]\n"
          ]
        }
      ]
    },
    {
      "cell_type": "markdown",
      "source": [
        "9. Write a program to calculate the average of a list of numbers.\n",
        "def average(nums):\n",
        " return sum(nums) / len(nums)\n",
        "numbers = [int(x) for x in input(\"Enter numbers separated by space: \").split()]\n",
        "print(\"Average:\", average(x))"
      ],
      "metadata": {
        "id": "SrwOIimWY0Nz"
      }
    },
    {
      "cell_type": "markdown",
      "source": [
        "Changed the argument x in the print statement to float numbers, which is the correct list of numbers to pass to the average function."
      ],
      "metadata": {
        "id": "7_PUCT40n8Ge"
      }
    },
    {
      "cell_type": "code",
      "execution_count": 16,
      "metadata": {
        "colab": {
          "base_uri": "https://localhost:8080/"
        },
        "id": "wFiBpfSPKmpr",
        "outputId": "a0f849e4-9dae-46ae-e7b8-4d6036cbc5d0"
      },
      "outputs": [
        {
          "output_type": "stream",
          "name": "stdout",
          "text": [
            "Enter numbers separated by space: 2.5 2.5\n",
            "Average: 2.5\n"
          ]
        }
      ],
      "source": [
        "def average(nums):\n",
        "    return sum(nums) / len(nums)\n",
        "numbers = [float(x) for x in input(\"Enter numbers separated by space: \").split()]\n",
        "print(\"Average:\", average(numbers))"
      ]
    },
    {
      "cell_type": "markdown",
      "source": [
        "10. Write a program to count the number of vowels in each string.\n",
        "def count_vowels(string):\n",
        " vowels = \"aeiouAEIOU\"\n",
        " count = 0\n",
        " for char in string:\n",
        " if char in vowels:\n",
        " count += 1\n",
        " return counts\n",
        "text = (\"Enter a string: \")\n",
        "print(\"Number of vowels:\", counts(text))\n"
      ],
      "metadata": {
        "id": "TsySLYPxLFoI"
      }
    },
    {
      "cell_type": "markdown",
      "source": [
        "Changed the return statement to return count instead of counts, which is a typo.\n",
        "Added the input function to read the user's input and store it in the text variable.\n",
        "Added a print statement to display the result of calling the count_vowels function with the input text\n"
      ],
      "metadata": {
        "id": "z8T07KJWoaKz"
      }
    },
    {
      "cell_type": "code",
      "source": [
        "def count_vowels(string):\n",
        "    vowels = \"aeiouAEIOU\"\n",
        "    count = 0\n",
        "    for char in string:\n",
        "        if char in vowels:\n",
        "            count += 1\n",
        "    return count\n",
        "\n",
        "text = input(\"Enter a string: \")\n",
        "print(\"Number of vowels:\", count_vowels(text))"
      ],
      "metadata": {
        "colab": {
          "base_uri": "https://localhost:8080/"
        },
        "id": "TLvuEfbHaCf_",
        "outputId": "2a1d98c2-daf9-4877-8b88-f0d980660dbb"
      },
      "execution_count": 18,
      "outputs": [
        {
          "output_type": "stream",
          "name": "stdout",
          "text": [
            "Enter a string: Dublin Business School\n",
            "Number of vowels: 7\n"
          ]
        }
      ]
    },
    {
      "cell_type": "markdown",
      "source": [
        "11. Write a function to calculate the area of a circle given its radius.\n",
        "import math\n",
        "def area_of_circle(radius):\n",
        " return math.pi * radius ^ 2\n",
        "r = float(input(\"Enter the radius of the circle: \"))\n",
        "print(\"Area of the circle:\", area_of_circle(radius))"
      ],
      "metadata": {
        "id": "opv1uBC0axvk"
      }
    },
    {
      "cell_type": "markdown",
      "source": [
        "Changed the exponentiation operator from ^ to **, which is the correct syntax in Python.\n",
        "Passed the variable r to the area_of_circle function instead of radius, which is the correct variable to use."
      ],
      "metadata": {
        "id": "wAbIfFqio2FR"
      }
    },
    {
      "cell_type": "code",
      "source": [
        "import math\n",
        "def area_of_circle(radius):\n",
        "    return math.pi * radius ** 2\n",
        "r = float(input(\"Enter radius of the circle: \"))\n",
        "print(\"Area of the circle:\", area_of_circle(r))"
      ],
      "metadata": {
        "colab": {
          "base_uri": "https://localhost:8080/"
        },
        "id": "StbrG4Q4aDEG",
        "outputId": "87929e80-7c67-4af6-c084-4ebf26506c53"
      },
      "execution_count": 20,
      "outputs": [
        {
          "output_type": "stream",
          "name": "stdout",
          "text": [
            "Enter radius of the circle: 11.1\n",
            "Area of the circle: 387.07563084879837\n"
          ]
        }
      ]
    },
    {
      "cell_type": "markdown",
      "source": [
        "12. Write a function to check if a given number is even or odd.\n",
        "def is_even(number):\n",
        " return number % 2 == 0\n",
        "num = input(\"Enter a number: \"))\n",
        "if is_even(number):\n",
        " print(Even)\n",
        "else:\n",
        " print(Odd)"
      ],
      "metadata": {
        "id": "fyZeCSvhbdtd"
      }
    },
    {
      "cell_type": "markdown",
      "source": [
        "Changed the input function to convert the user's input to an integer using int(), since the is_even function expects an integer argument.\n",
        "Added quotes around the strings \"Even\" and \"Odd\" in the print statements, since they are strings that need to be printed.\n",
        "Passed the variable num to the is_even function instead of number, which is the correct variable to use."
      ],
      "metadata": {
        "id": "oPF-Q3wQpDtt"
      }
    },
    {
      "cell_type": "code",
      "source": [
        "def is_even(number):\n",
        "    return number % 2 == 0\n",
        "num = int(input(\"Enter a number: \"))\n",
        "if is_even(num):\n",
        "    print(\"Even\")\n",
        "else:\n",
        "    print(\"Odd\")"
      ],
      "metadata": {
        "colab": {
          "base_uri": "https://localhost:8080/"
        },
        "id": "-9F1CW8cbLbO",
        "outputId": "7fc48d34-8745-4414-8540-1ef7e4b0efc5"
      },
      "execution_count": 21,
      "outputs": [
        {
          "output_type": "stream",
          "name": "stdout",
          "text": [
            "Enter a number: 3\n",
            "Odd\n"
          ]
        }
      ]
    },
    {
      "cell_type": "markdown",
      "source": [
        "13. Write a function to reverse a given string.\n",
        "definition reverse_string(string):\n",
        " return string[::-1]\n",
        "text = input(\"Enter a string: \")\n",
        "print(\"Reversed string:\", reverse_string(string))"
      ],
      "metadata": {
        "id": "q9wd3UrUcWVa"
      }
    },
    {
      "cell_type": "markdown",
      "source": [
        "Changed the definition keyword to def, which is the correct syntax for defining a function in Python.\n",
        "Passed the variable text to the reverse_string function instead of string, which is the correct variable to use."
      ],
      "metadata": {
        "id": "-mabbX_vpUJ9"
      }
    },
    {
      "cell_type": "code",
      "source": [
        "def reverse_string(string):\n",
        "    return string[::-1]\n",
        "text = input(\"Enter a string: \")\n",
        "print(\"Reversed string:\", reverse_string(text))"
      ],
      "metadata": {
        "colab": {
          "base_uri": "https://localhost:8080/"
        },
        "id": "JoNQE10CbrxL",
        "outputId": "00defe8b-b8d7-43c5-f914-442912011f70"
      },
      "execution_count": 22,
      "outputs": [
        {
          "output_type": "stream",
          "name": "stdout",
          "text": [
            "Enter a string: Dublin Business School\n",
            "Reversed string: loohcS ssenisuB nilbuD\n"
          ]
        }
      ]
    },
    {
      "cell_type": "markdown",
      "source": [
        "14. Write a function to check if a given string is a palindrome.\n",
        "defn is_palindrome(string):\n",
        " return string == string[::-1]\n",
        "text = input(\"Enter a string: \")\n",
        "elif is_palindrome(string):\n",
        " print(Palindrome)\n",
        "else:\n",
        " print(Not a palindrome)"
      ],
      "metadata": {
        "id": "RkOfirqYcYBR"
      }
    },
    {
      "cell_type": "markdown",
      "source": [
        "Changed the defn keyword to def, which is the correct syntax for defining a function in Python.\n",
        "Changed the elif statement to an if statement, since there is no preceding if statement to pair with the elif.\n",
        "Passed the variable text to the is_palindrome function instead of string, which is the correct variable to use.\n",
        "Added quotes around the strings \"Palindrome\" and \"Not a palindrome\" in the print statements, since they are strings that need to be printed.\n"
      ],
      "metadata": {
        "id": "lhMyCRYIphJB"
      }
    },
    {
      "cell_type": "code",
      "source": [
        "def is_palindrome(string):\n",
        "    return string == string[::-1]\n",
        "text = input(\"Enter a string: \")\n",
        "if is_palindrome(text):\n",
        "    print(\"Palindrome\")\n",
        "else:\n",
        "    print(\"Not a palindrome\")"
      ],
      "metadata": {
        "colab": {
          "base_uri": "https://localhost:8080/"
        },
        "id": "HvvzjyrhcNy6",
        "outputId": "559a603e-3bc0-4ce2-90fe-6942615f3128"
      },
      "execution_count": 27,
      "outputs": [
        {
          "output_type": "stream",
          "name": "stdout",
          "text": [
            "Enter a string: DBS\n",
            "Not a palindrome\n"
          ]
        }
      ]
    },
    {
      "cell_type": "markdown",
      "source": [
        "15. Write a function to calculate the square root of a given number.\n",
        "def square_root(number):\n",
        " return number ^ 0.5\n",
        "num = floats(input(\"Enter a number: \"))\n",
        "print(\"Square root:\", square_root(number))\n"
      ],
      "metadata": {
        "id": "mO-gP1lvdI1a"
      }
    },
    {
      "cell_type": "markdown",
      "source": [
        "Imported the math module, which provides the sqrt function for calculating square roots.\n",
        "Changed the ^ operator to the math.sqrt function, which is the correct way to calculate the square root of a number in Python.\n",
        "Changed the floats function to the float function, which is the correct way to convert a string to a floating-point number in Python.\n",
        "Passed the variable num to the square_root function instead of number, which is the correct variable to use."
      ],
      "metadata": {
        "id": "2Cf2i4aUpr6x"
      }
    },
    {
      "cell_type": "code",
      "source": [
        "import math\n",
        "\n",
        "def square_root(number):\n",
        "    return math.sqrt(number)\n",
        "num = float(input(\"Enter a number: \"))\n",
        "print(\"Square root:\", square_root(num))"
      ],
      "metadata": {
        "colab": {
          "base_uri": "https://localhost:8080/"
        },
        "id": "wYpYTHxkcl-5",
        "outputId": "8db62719-51c1-48aa-efb6-19f593b610e1"
      },
      "execution_count": 29,
      "outputs": [
        {
          "output_type": "stream",
          "name": "stdout",
          "text": [
            "Enter a number: 12.5\n",
            "Square root: 3.5355339059327378\n"
          ]
        }
      ]
    },
    {
      "cell_type": "markdown",
      "source": [
        "16. Write a function to find the greatest common divisor (GCD) of two numbers.\n",
        "def gcd(a, b):\n",
        " while b:\n",
        " a, b = b, a % b\n",
        " return a\n",
        "num1 = int((\"Enter first number: \"))\n",
        "num2 = (input(\"Enter second number: \"))\n",
        "print(\"GCD:\", gcb(num, num))\n"
      ],
      "metadata": {
        "id": "Q_5R1Lwldjps"
      }
    },
    {
      "cell_type": "markdown",
      "source": [
        "Fixed the syntax for getting user input using the input function. The input function should be called with a string prompt, and the result should be converted to an integer using the int function.\n",
        "Changed the function call from gcb to gcd, which is the correct function name.\n",
        "Passed the variables num1 and num2 to the gcd function instead of num, which is not defined."
      ],
      "metadata": {
        "id": "lciJTuBTp6OR"
      }
    },
    {
      "cell_type": "code",
      "source": [
        "def gcd(a, b):\n",
        "    while b:\n",
        "        a, b = b, a % b\n",
        "    return a\n",
        "num1 = int(input(\"Enter first number: \"))\n",
        "num2 = int(input(\"Enter second number: \"))\n",
        "print(\"GCD:\", gcd(num1, num2))"
      ],
      "metadata": {
        "colab": {
          "base_uri": "https://localhost:8080/"
        },
        "id": "_ahYgvjBdUGQ",
        "outputId": "0f27bb95-715d-44ca-c097-60e2c798a9bd"
      },
      "execution_count": 30,
      "outputs": [
        {
          "output_type": "stream",
          "name": "stdout",
          "text": [
            "Enter first number: 20\n",
            "Enter second number: 10\n",
            "GCD: 10\n"
          ]
        }
      ]
    },
    {
      "cell_type": "markdown",
      "source": [
        "17. Write a function to check if a given number is a perfect square.\n",
        "Import math\n",
        "def is_perfect_square(number):\n",
        " return math.isqrt(number) ^ 2 == number\n",
        "num = int(input(\"Enter a number: \"))\n",
        "elif is_perfect_square(number):\n",
        " print(\"Perfect square\")\n",
        "else:\n",
        " print(\"Not a perfect square\")"
      ],
      "metadata": {
        "id": "SEAyMRK-d78T"
      }
    },
    {
      "cell_type": "markdown",
      "source": [
        "Changed the elif statement to an if statement, since there is no preceding if statement to pair with the elif.\n",
        "Assigned the result of math.isqrt(number) to a variable root and then checked if root * root is equal to the original number.\n",
        "Passed the variable num to the is_perfect_square function instead of number, which is the correct variable to use."
      ],
      "metadata": {
        "id": "o4R8xzHXqCrs"
      }
    },
    {
      "cell_type": "code",
      "source": [
        "import math\n",
        "\n",
        "def is_perfect_square(number):\n",
        "    return math.isqrt(number) ** 2 == number\n",
        "num = int(input(\"Enter a number: \"))\n",
        "if is_perfect_square(num):\n",
        "    print(\"Perfect square\")\n",
        "else:\n",
        "    print(\"Not a perfect square\")"
      ],
      "metadata": {
        "colab": {
          "base_uri": "https://localhost:8080/"
        },
        "id": "EptgfstQdza2",
        "outputId": "0b3062cd-c948-400c-c789-2f424c77c328"
      },
      "execution_count": 37,
      "outputs": [
        {
          "output_type": "stream",
          "name": "stdout",
          "text": [
            "Enter a number: 36\n",
            "Perfect square\n"
          ]
        }
      ]
    },
    {
      "cell_type": "markdown",
      "source": [
        "18. Write a function to generate a list of prime numbers up to a given limit.\n",
        "def generate_primes(limit):\n",
        " primes = []\n",
        " for num in range(2, limit ++ 1):\n",
        " for i in range(2, num):\n",
        " if (num % i) == 0:\n",
        " break\n",
        " else:\n",
        " primes.append(number)\n",
        " return primes\n",
        "limit = (\"Enter a limit: \"))\n",
        "print(\"Prime numbers up to\", limit, \":\", gen_primes(number))\n"
      ],
      "metadata": {
        "id": "rNRCa0FYfnfA"
      }
    },
    {
      "cell_type": "markdown",
      "source": [
        "Changed the range function to use limit + 1 instead of limit ++ 1, which is not a valid syntax in Python. Changed the primes.append(number) to primes.append(num), since num is the correct variable to use. Changed the function call from gen_primes to generate_primes, which is the correct function name. Passed the variable limit to the generate_primes function instead of number, which is not defined. Added an int conversion to the input function to convert the user's input to an integer."
      ],
      "metadata": {
        "id": "8dAsYsj2q3pH"
      }
    },
    {
      "cell_type": "code",
      "source": [
        "def generate_primes(limit):\n",
        "    primes = []\n",
        "    for num in range(2, limit + 1):\n",
        "        is_prime = True\n",
        "        for i in range(2, int(num ** 0.5) + 1):\n",
        "            if (num % i) == 0:\n",
        "                is_prime = False\n",
        "                break\n",
        "        if is_prime:\n",
        "            primes.append(num)\n",
        "    return primes\n",
        "\n",
        "limit = int(input(\"Enter a limit: \"))\n",
        "print(\"Prime numbers up to\", limit, \":\", generate_primes(limit))"
      ],
      "metadata": {
        "colab": {
          "base_uri": "https://localhost:8080/"
        },
        "id": "1FIviyebeJKJ",
        "outputId": "1ae06b97-2c78-447c-fd95-376028c3e69b"
      },
      "execution_count": 38,
      "outputs": [
        {
          "output_type": "stream",
          "name": "stdout",
          "text": [
            "Enter a limit: 22\n",
            "Prime numbers up to 22 : [2, 3, 5, 7, 11, 13, 17, 19]\n"
          ]
        }
      ]
    },
    {
      "cell_type": "markdown",
      "source": [
        "19. Write a function to check if a given string is an anagram of another string.\n",
        "defn is_anagram(str1, str2):\n",
        " return sorted(str1) == sorted(str2)\n",
        "text = input(\"Enter first string: \")\n",
        "text2 = input(\"Enter second string: \")\n",
        "if is_anagram(text1, text2):\n",
        " print(\"Anagram\")\n",
        "elseif:\n",
        " print(\"Not an anagram\")\n",
        ""
      ],
      "metadata": {
        "id": "7tC_3NaFgPjf"
      }
    },
    {
      "cell_type": "markdown",
      "source": [
        "Changed the function definition from defn to def, which is the correct syntax in Python.\n",
        "Changed the variable names in the function call from text1 and text2 to text and text2, which are the correct variable names.\n",
        "Changed the elseif statement to an else statement, since there is no preceding if statement to pair with the elseif.\n",
        "\n",
        "\n",
        "\n"
      ],
      "metadata": {
        "id": "UeGAYEuVrA07"
      }
    },
    {
      "cell_type": "code",
      "source": [
        "def is_anagram(str1, str2):\n",
        "    return sorted(str1) == sorted(str2)\n",
        "\n",
        "text = input(\"Enter first string: \")\n",
        "text2 = input(\"Enter second string: \")\n",
        "\n",
        "if is_anagram(text, text2):\n",
        "    print(\"Anagram\")\n",
        "else:\n",
        "    print(\"Not an anagram\")"
      ],
      "metadata": {
        "colab": {
          "base_uri": "https://localhost:8080/"
        },
        "id": "i-DvFhnagA6H",
        "outputId": "7ff1ec52-5cc4-44a1-c414-036fe82fe0e5"
      },
      "execution_count": 39,
      "outputs": [
        {
          "output_type": "stream",
          "name": "stdout",
          "text": [
            "Enter first string: DUBLIN BUSINESS SCHOOL\n",
            "Enter second string: DUBLIN CITY CENTRE\n",
            "Not an anagram\n"
          ]
        }
      ]
    },
    {
      "cell_type": "markdown",
      "source": [
        "20. Write a function to calculate the factorial of a given number using recursion.\n",
        "def factorial(n):\n",
        " if n == 0:\n",
        " return 1\n",
        " else:\n",
        " return n * factorial(n - 1)\n",
        "num = int(input(\"Enter a number: \"))\n",
        "print(\"Factorial:\", factorial(number))"
      ],
      "metadata": {
        "id": "7wutjSe9gyxP"
      }
    },
    {
      "cell_type": "markdown",
      "source": [
        "Changed number to num in the function call, which is the correct variable name."
      ],
      "metadata": {
        "id": "KEjzau2YrMxD"
      }
    },
    {
      "cell_type": "code",
      "source": [
        "def factorial(n):\n",
        "    if n == 0:\n",
        "        return 1\n",
        "    else:\n",
        "        return n * factorial(n - 1)\n",
        "\n",
        "num = int(input(\"Enter a number: \"))\n",
        "print(\"Factorial:\", factorial(num))"
      ],
      "metadata": {
        "colab": {
          "base_uri": "https://localhost:8080/"
        },
        "id": "u3thrFSLgczB",
        "outputId": "f8c86c5a-1d96-4c60-8b0c-e2d4a0196be9"
      },
      "execution_count": 40,
      "outputs": [
        {
          "output_type": "stream",
          "name": "stdout",
          "text": [
            "Enter a number: 7\n",
            "Factorial: 5040\n"
          ]
        }
      ]
    },
    {
      "cell_type": "code",
      "source": [],
      "metadata": {
        "id": "uXz-O3QPg_Lj"
      },
      "execution_count": null,
      "outputs": []
    }
  ]
}